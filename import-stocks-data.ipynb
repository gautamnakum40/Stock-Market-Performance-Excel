{
 "cells": [
  {
   "cell_type": "code",
   "execution_count": null,
   "metadata": {},
   "outputs": [],
   "source": [
    "%install yfinance  # library that allows downloading stock market data from Yahoo Finance."
   ]
  },
  {
   "cell_type": "code",
   "execution_count": 2,
   "metadata": {},
   "outputs": [],
   "source": [
    "import pandas as pd    # used for data manipulation.\n",
    "import yfinance as yf  # for download stock market data from yfinance\n",
    "from datetime import datetime  # get the current date and time."
   ]
  },
  {
   "cell_type": "code",
   "execution_count": 3,
   "metadata": {},
   "outputs": [
    {
     "name": "stderr",
     "output_type": "stream",
     "text": [
      "[*********************100%***********************]  1 of 1 completed\n",
      "[*********************100%***********************]  1 of 1 completed\n",
      "[*********************100%***********************]  1 of 1 completed\n",
      "[*********************100%***********************]  1 of 1 completed\n",
      "[*********************100%***********************]  1 of 1 completed\n"
     ]
    },
    {
     "name": "stdout",
     "output_type": "stream",
     "text": [
      "Data successfully saved to stock_data.csv\n"
     ]
    }
   ],
   "source": [
    "start_date = datetime.now() - pd.DateOffset(years=5)   # for extract data from past 5 years\n",
    "end_date = datetime.now()     # current date\n",
    "\n",
    "tickers = ['RELIANCE.NS', 'TCS.NS', 'HDFCBANK.NS', 'INFY.NS', 'HINDUNILVR.NS']  # These companies span across diverse sectors like Energy, Information Technology, Financial Services, FMCG.\n",
    "\n",
    "# Empty list for add the data from loop\n",
    "df_list = []\n",
    "\n",
    "# Loop over each ticker and download the data\n",
    "for ticker in tickers:\n",
    "    data = yf.download(ticker,start=start_date, end=end_date, interval=\"1d\")\n",
    "    df_list.append(data)\n",
    "\n",
    "# Concatenate the dataframes\n",
    "df = pd.concat(df_list, keys=tickers, names=['Ticker', 'Date'])\n",
    "\n",
    "# Save the dataframe to a CSV file\n",
    "df.to_csv('Stock_DataSet.csv')\n",
    "print(\"Data successfully saved to Stock_DataSet.csv\")\n",
    "\n"
   ]
  },
  {
   "cell_type": "code",
   "execution_count": 4,
   "metadata": {},
   "outputs": [],
   "source": []
  }
 ],
 "metadata": {
  "kernelspec": {
   "display_name": "base",
   "language": "python",
   "name": "python3"
  },
  "language_info": {
   "codemirror_mode": {
    "name": "ipython",
    "version": 3
   },
   "file_extension": ".py",
   "mimetype": "text/x-python",
   "name": "python",
   "nbconvert_exporter": "python",
   "pygments_lexer": "ipython3",
   "version": "3.11.7"
  }
 },
 "nbformat": 4,
 "nbformat_minor": 2
}
